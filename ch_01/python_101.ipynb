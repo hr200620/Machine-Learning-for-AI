{
  "cells": [
    {
      "cell_type": "markdown",
      "metadata": {
        "id": "0IMumJUCx1BH"
      },
      "source": [
        "# Python 101\n",
        "\n",
        "This is an optional notebook to get you up to speed with Python in case you are new to Python or need a refresher. The material here is a crash course in Python; I highly recommend the [official Python tutorial](https://docs.python.org/3/tutorial/) for a deeper dive. Consider reading [this page](https://docs.python.org/3/tutorial/appetite.html) in the Python docs for background on Python and bookmarking the [glossary](https://docs.python.org/3/glossary.html#glossary).\n",
        "\n",
        "## Basic data types\n",
        "### Numbers\n",
        "Numbers in Python can be represented as integers (e.g. `5`) or floats (e.g. `5.0`). We can perform operations on them:"
      ]
    },
    {
      "cell_type": "code",
      "execution_count": null,
      "metadata": {
        "id": "HIy6ebNgx1BK",
        "outputId": "eb4db258-a7fb-4898-f1a2-3de6ca5283a2"
      },
      "outputs": [
        {
          "data": {
            "text/plain": [
              "11"
            ]
          },
          "execution_count": 1,
          "metadata": {},
          "output_type": "execute_result"
        }
      ],
      "source": [
        "5 + 6"
      ]
    },
    {
      "cell_type": "code",
      "execution_count": null,
      "metadata": {
        "id": "cHr9UDXcx1BM",
        "outputId": "debbd579-4bab-4f51-dc26-48295fcbcd24"
      },
      "outputs": [
        {
          "data": {
            "text/plain": [
              "0.8333333333333334"
            ]
          },
          "execution_count": 2,
          "metadata": {},
          "output_type": "execute_result"
        }
      ],
      "source": [
        "2.5 / 3"
      ]
    },
    {
      "cell_type": "markdown",
      "metadata": {
        "id": "Z2iMwJUhx1BM"
      },
      "source": [
        "### Booleans\n",
        "\n",
        "We can check for equality giving us a Boolean:"
      ]
    },
    {
      "cell_type": "code",
      "execution_count": null,
      "metadata": {
        "id": "x2L2ICOLx1BN",
        "outputId": "b6ddedc9-e658-41d6-e4d9-a15217a5188e"
      },
      "outputs": [
        {
          "data": {
            "text/plain": [
              "False"
            ]
          },
          "execution_count": 3,
          "metadata": {},
          "output_type": "execute_result"
        }
      ],
      "source": [
        "5 == 6"
      ]
    },
    {
      "cell_type": "code",
      "execution_count": null,
      "metadata": {
        "id": "Xx4xZ0Lqx1BN",
        "outputId": "b37e4407-ff53-45fd-8716-2e914731538f"
      },
      "outputs": [
        {
          "data": {
            "text/plain": [
              "True"
            ]
          },
          "execution_count": 4,
          "metadata": {},
          "output_type": "execute_result"
        }
      ],
      "source": [
        "5 < 6"
      ]
    },
    {
      "cell_type": "markdown",
      "metadata": {
        "id": "YGdadsO7x1BN"
      },
      "source": [
        "These statements can be combined with logical operators: `not`, `and`, `or`"
      ]
    },
    {
      "cell_type": "code",
      "execution_count": null,
      "metadata": {
        "id": "RmD-om4gx1BN",
        "outputId": "527adf1d-d8da-47ea-8fe2-3f04fcff8c1f"
      },
      "outputs": [
        {
          "data": {
            "text/plain": [
              "True"
            ]
          },
          "execution_count": 5,
          "metadata": {},
          "output_type": "execute_result"
        }
      ],
      "source": [
        "(5 < 6) and not (5 == 6)"
      ]
    },
    {
      "cell_type": "code",
      "execution_count": null,
      "metadata": {
        "id": "85SoD5WKx1BO",
        "outputId": "3053e8ab-6763-44e4-8843-6e825a75185c"
      },
      "outputs": [
        {
          "data": {
            "text/plain": [
              "True"
            ]
          },
          "execution_count": 6,
          "metadata": {},
          "output_type": "execute_result"
        }
      ],
      "source": [
        "False or True"
      ]
    },
    {
      "cell_type": "code",
      "execution_count": null,
      "metadata": {
        "id": "dhc9nEB6x1BO",
        "outputId": "7d087e53-3ec4-480e-f502-7b137a5d3652"
      },
      "outputs": [
        {
          "data": {
            "text/plain": [
              "True"
            ]
          },
          "execution_count": 7,
          "metadata": {},
          "output_type": "execute_result"
        }
      ],
      "source": [
        "True or False"
      ]
    },
    {
      "cell_type": "markdown",
      "metadata": {
        "id": "n89EJaUKx1BO"
      },
      "source": [
        "### Strings\n",
        "Using strings, we can handle text in Python. These values must be surrounded in quotes &mdash; single (`'...'`) is the standard, but double (`\"...\"`) works as well:"
      ]
    },
    {
      "cell_type": "code",
      "execution_count": null,
      "metadata": {
        "id": "QpBilxrPx1BO",
        "outputId": "2ba824c1-5ba5-40c0-cddd-4abf518a9066"
      },
      "outputs": [
        {
          "data": {
            "text/plain": [
              "'hello'"
            ]
          },
          "execution_count": 8,
          "metadata": {},
          "output_type": "execute_result"
        }
      ],
      "source": [
        "'hello'"
      ]
    },
    {
      "cell_type": "markdown",
      "metadata": {
        "id": "-Hu7kracx1BO"
      },
      "source": [
        "We can also perform operations on strings. For example, we can see how long it is with `len()`:"
      ]
    },
    {
      "cell_type": "code",
      "execution_count": null,
      "metadata": {
        "id": "4PYS52u3x1BP",
        "outputId": "81be997b-4d5f-4903-e0a2-4a4dada44296"
      },
      "outputs": [
        {
          "data": {
            "text/plain": [
              "5"
            ]
          },
          "execution_count": 9,
          "metadata": {},
          "output_type": "execute_result"
        }
      ],
      "source": [
        "len('hello')"
      ]
    },
    {
      "cell_type": "markdown",
      "metadata": {
        "id": "i-6q1h4jx1BP"
      },
      "source": [
        "We can select parts of the string by specifying the **index**. Note that in Python the 1<sup>st</sup> character is at index 0:"
      ]
    },
    {
      "cell_type": "code",
      "execution_count": null,
      "metadata": {
        "id": "7csweGcnx1BP",
        "outputId": "9740baf5-494c-4ff2-ade5-2d0d53de8d1a"
      },
      "outputs": [
        {
          "data": {
            "text/plain": [
              "'h'"
            ]
          },
          "execution_count": 10,
          "metadata": {},
          "output_type": "execute_result"
        }
      ],
      "source": [
        "'hello'[0]"
      ]
    },
    {
      "cell_type": "markdown",
      "metadata": {
        "id": "c7Janw6px1BP"
      },
      "source": [
        "We can concatentate strings with `+`:"
      ]
    },
    {
      "cell_type": "code",
      "execution_count": null,
      "metadata": {
        "id": "QyPr2iqex1BP",
        "outputId": "8313e5cd-ed31-491b-aabe-c05b882e3d67"
      },
      "outputs": [
        {
          "data": {
            "text/plain": [
              "'hello world'"
            ]
          },
          "execution_count": 11,
          "metadata": {},
          "output_type": "execute_result"
        }
      ],
      "source": [
        "'hello' + ' ' + 'world'"
      ]
    },
    {
      "cell_type": "markdown",
      "metadata": {
        "id": "ijcZGIRix1BP"
      },
      "source": [
        "We can check if characters are in the string with the `in` operator:"
      ]
    },
    {
      "cell_type": "code",
      "execution_count": null,
      "metadata": {
        "id": "i_uIYrA0x1BP",
        "outputId": "4fc02bb0-6f7c-4ca5-8c26-e68398d7d90c"
      },
      "outputs": [
        {
          "data": {
            "text/plain": [
              "True"
            ]
          },
          "execution_count": 12,
          "metadata": {},
          "output_type": "execute_result"
        }
      ],
      "source": [
        "'h' in 'hello'"
      ]
    },
    {
      "cell_type": "markdown",
      "metadata": {
        "id": "nb0CQvKLx1BP"
      },
      "source": [
        "## Variables\n",
        "Notice that just typing text causes an error. Errors in Python attempt to clue us in to what went wrong with our code. In this case, we have a `NameError` exception which tells us that `'hello'` is not defined. This means that [the Python interpreter](https://docs.python.org/3/tutorial/interpreter.html) looked for a **variable** named `hello`, but it didn't find one."
      ]
    },
    {
      "cell_type": "code",
      "execution_count": null,
      "metadata": {
        "id": "qt4DxKXsx1BQ",
        "outputId": "918936f1-54ee-4854-b899-69f0125347e2"
      },
      "outputs": [
        {
          "ename": "NameError",
          "evalue": "name 'hello' is not defined",
          "output_type": "error",
          "traceback": [
            "\u001b[0;31m---------------------------------------------------------------------------\u001b[0m",
            "\u001b[0;31mNameError\u001b[0m                                 Traceback (most recent call last)",
            "\u001b[0;32m<ipython-input-13-f572d396fae9>\u001b[0m in \u001b[0;36m<module>\u001b[0;34m\u001b[0m\n\u001b[0;32m----> 1\u001b[0;31m \u001b[0mhello\u001b[0m\u001b[0;34m\u001b[0m\u001b[0;34m\u001b[0m\u001b[0m\n\u001b[0m",
            "\u001b[0;31mNameError\u001b[0m: name 'hello' is not defined"
          ]
        }
      ],
      "source": [
        "hello"
      ]
    },
    {
      "cell_type": "markdown",
      "metadata": {
        "id": "bAOMetYTx1BQ"
      },
      "source": [
        "Variables give us a way to store data types. We define a variable using the `variable_name = value` syntax:"
      ]
    },
    {
      "cell_type": "code",
      "execution_count": null,
      "metadata": {
        "id": "-cT6O3vvx1BQ",
        "outputId": "569f82b5-ee01-41a3-aacf-f02fc9b948f7"
      },
      "outputs": [
        {
          "data": {
            "text/plain": [
              "12"
            ]
          },
          "execution_count": 14,
          "metadata": {},
          "output_type": "execute_result"
        }
      ],
      "source": [
        "x = 5\n",
        "y = 7\n",
        "x + y"
      ]
    },
    {
      "cell_type": "markdown",
      "metadata": {
        "id": "n6ZSB4tox1BQ"
      },
      "source": [
        "The variable name cannot contain spaces; we usually use `_` instead. The best variable names are descriptive ones:"
      ]
    },
    {
      "cell_type": "code",
      "execution_count": null,
      "metadata": {
        "id": "04LA1SJnx1BQ"
      },
      "outputs": [],
      "source": [
        "book_title = 'Hands-On Data Analysis with Pandas'"
      ]
    },
    {
      "cell_type": "markdown",
      "metadata": {
        "id": "R_f7H-0jx1BQ"
      },
      "source": [
        "Variables can be any data type. We can check which one it is with `type()`, which is a **function** (more on that later):"
      ]
    },
    {
      "cell_type": "code",
      "execution_count": null,
      "metadata": {
        "id": "5yET4oOOx1BQ",
        "outputId": "bec454f4-12d7-49fd-8356-b2ae43dc9b5b"
      },
      "outputs": [
        {
          "data": {
            "text/plain": [
              "int"
            ]
          },
          "execution_count": 16,
          "metadata": {},
          "output_type": "execute_result"
        }
      ],
      "source": [
        "type(x)"
      ]
    },
    {
      "cell_type": "code",
      "execution_count": null,
      "metadata": {
        "id": "alNtrgETx1BQ",
        "outputId": "5b790481-4082-4b4a-df5d-65cc98d3f5cd"
      },
      "outputs": [
        {
          "data": {
            "text/plain": [
              "str"
            ]
          },
          "execution_count": 17,
          "metadata": {},
          "output_type": "execute_result"
        }
      ],
      "source": [
        "type(book_title)"
      ]
    },
    {
      "cell_type": "markdown",
      "metadata": {
        "id": "DtvPdalJx1BQ"
      },
      "source": [
        "If we need to see the value of a variable, we can print it using the `print()` function:"
      ]
    },
    {
      "cell_type": "code",
      "execution_count": null,
      "metadata": {
        "id": "hLKTqvu_x1BQ",
        "outputId": "e79ce9be-3692-44d2-c093-47e5a3448846"
      },
      "outputs": [
        {
          "name": "stdout",
          "output_type": "stream",
          "text": [
            "Hands-On Data Analysis with Pandas\n"
          ]
        }
      ],
      "source": [
        "print(book_title)"
      ]
    },
    {
      "cell_type": "markdown",
      "metadata": {
        "id": "G9VLPenox1BQ"
      },
      "source": [
        "## Collections of Items\n",
        "\n",
        "### Lists\n",
        "We can store a collection of items in a list:"
      ]
    },
    {
      "cell_type": "code",
      "execution_count": null,
      "metadata": {
        "id": "iz2uAcSox1BQ",
        "outputId": "7659f5a5-9df2-4e0d-f357-dfdf61d57ea0"
      },
      "outputs": [
        {
          "data": {
            "text/plain": [
              "['hello', ' ', 'world']"
            ]
          },
          "execution_count": 19,
          "metadata": {},
          "output_type": "execute_result"
        }
      ],
      "source": [
        "['hello', ' ', 'world']"
      ]
    },
    {
      "cell_type": "markdown",
      "metadata": {
        "id": "f5wlaEnex1BR"
      },
      "source": [
        "The list can be stored in a variable. Note that the items in the list can be of different types:"
      ]
    },
    {
      "cell_type": "code",
      "execution_count": null,
      "metadata": {
        "id": "qD4Ztflix1BR",
        "outputId": "3bba2746-a471-4d9d-cc0f-53a199675f2c"
      },
      "outputs": [
        {
          "data": {
            "text/plain": [
              "list"
            ]
          },
          "execution_count": 20,
          "metadata": {},
          "output_type": "execute_result"
        }
      ],
      "source": [
        "my_list = ['hello', 3.8, True, 'Python']\n",
        "type(my_list)"
      ]
    },
    {
      "cell_type": "markdown",
      "metadata": {
        "id": "n6oOz8cZx1BR"
      },
      "source": [
        "We can see how many elements are in the list with `len()`:"
      ]
    },
    {
      "cell_type": "code",
      "execution_count": null,
      "metadata": {
        "id": "W1JV_suQx1BR",
        "outputId": "c03caa99-4fe8-4133-e6aa-538550b74bec"
      },
      "outputs": [
        {
          "data": {
            "text/plain": [
              "4"
            ]
          },
          "execution_count": 21,
          "metadata": {},
          "output_type": "execute_result"
        }
      ],
      "source": [
        "len(my_list)"
      ]
    },
    {
      "cell_type": "markdown",
      "metadata": {
        "id": "8YT6UBlDx1BR"
      },
      "source": [
        "We can also use the `in` operator to check if a value is in the list:"
      ]
    },
    {
      "cell_type": "code",
      "execution_count": null,
      "metadata": {
        "id": "BheOkiVXx1BR",
        "outputId": "5003fcc7-8e24-46a8-f593-f142cced9535"
      },
      "outputs": [
        {
          "data": {
            "text/plain": [
              "False"
            ]
          },
          "execution_count": 22,
          "metadata": {},
          "output_type": "execute_result"
        }
      ],
      "source": [
        "'world' in my_list"
      ]
    },
    {
      "cell_type": "markdown",
      "metadata": {
        "id": "kAO9LS-Nx1BU"
      },
      "source": [
        "We can select items in the list just as we did with strings, by providing the index to select:"
      ]
    },
    {
      "cell_type": "code",
      "execution_count": null,
      "metadata": {
        "id": "akSgML3Jx1BV",
        "outputId": "3a8ff4a2-45ec-45e8-d996-0d30e3e56651"
      },
      "outputs": [
        {
          "data": {
            "text/plain": [
              "3.8"
            ]
          },
          "execution_count": 23,
          "metadata": {},
          "output_type": "execute_result"
        }
      ],
      "source": [
        "my_list[1]"
      ]
    },
    {
      "cell_type": "markdown",
      "metadata": {
        "id": "-1rzyLR2x1BV"
      },
      "source": [
        "Python also allows us to use negative values, so we can easily select the last one:"
      ]
    },
    {
      "cell_type": "code",
      "execution_count": null,
      "metadata": {
        "id": "JRQVVphcx1BV",
        "outputId": "6f7bcbd8-8fc4-4739-dc2c-3d821d622387"
      },
      "outputs": [
        {
          "data": {
            "text/plain": [
              "'Python'"
            ]
          },
          "execution_count": 24,
          "metadata": {},
          "output_type": "execute_result"
        }
      ],
      "source": [
        "my_list[-1]"
      ]
    },
    {
      "cell_type": "markdown",
      "metadata": {
        "id": "1TVN8M4rx1BV"
      },
      "source": [
        "Another powerful feature of lists (and strings) is **slicing**. We can grab the middle 2 elements in the list:"
      ]
    },
    {
      "cell_type": "code",
      "execution_count": null,
      "metadata": {
        "id": "fpx1tCfqx1BV",
        "outputId": "7c0145ed-4f22-409c-8036-303f68327d2f"
      },
      "outputs": [
        {
          "data": {
            "text/plain": [
              "[3.8, True]"
            ]
          },
          "execution_count": 25,
          "metadata": {},
          "output_type": "execute_result"
        }
      ],
      "source": [
        "my_list[1:3]"
      ]
    },
    {
      "cell_type": "markdown",
      "metadata": {
        "id": "WGQqQ9uLx1BV"
      },
      "source": [
        "... or every other one:"
      ]
    },
    {
      "cell_type": "code",
      "execution_count": null,
      "metadata": {
        "id": "MDdu5sYIx1BV",
        "outputId": "e6e09586-e58c-4454-fdb3-4f04b641749b"
      },
      "outputs": [
        {
          "data": {
            "text/plain": [
              "['hello', True]"
            ]
          },
          "execution_count": 26,
          "metadata": {},
          "output_type": "execute_result"
        }
      ],
      "source": [
        "my_list[::2]"
      ]
    },
    {
      "cell_type": "markdown",
      "metadata": {
        "id": "dorqV4xUx1BV"
      },
      "source": [
        "We can even select the list in reverse:"
      ]
    },
    {
      "cell_type": "code",
      "execution_count": null,
      "metadata": {
        "id": "9MdP_YW9x1BV",
        "outputId": "913a0ece-50e1-4e43-a33d-3419f8308818"
      },
      "outputs": [
        {
          "data": {
            "text/plain": [
              "['Python', True, 3.8, 'hello']"
            ]
          },
          "execution_count": 27,
          "metadata": {},
          "output_type": "execute_result"
        }
      ],
      "source": [
        "my_list[::-1]"
      ]
    },
    {
      "cell_type": "markdown",
      "metadata": {
        "id": "poSB5-HHx1BW"
      },
      "source": [
        "Note: This syntax is `[start:stop:step]` where the selection is inclusive of the start index, but exclusive of the stop index. If `start` isn't provided, `0` is used. If `stop` isn't provided, the number of elements is used (4, in our case); this works because the `stop` is exclusive. If `step` isn't provided, it is 1.\n",
        "\n",
        "We can use the `join()` method on a string object to concatenate all the items of a list into single string. The string we call the `join()` method on will be used as the separator, here we separate with a pipe (|):"
      ]
    },
    {
      "cell_type": "code",
      "execution_count": null,
      "metadata": {
        "id": "i9xTJh8Gx1BW",
        "outputId": "c7e27b3b-aa8b-4fe5-826f-02030113dceb"
      },
      "outputs": [
        {
          "data": {
            "text/plain": [
              "'x|y|z'"
            ]
          },
          "execution_count": 28,
          "metadata": {},
          "output_type": "execute_result"
        }
      ],
      "source": [
        "'|'.join(['x', 'y', 'z'])"
      ]
    },
    {
      "cell_type": "markdown",
      "metadata": {
        "id": "hrQN-Shix1BW"
      },
      "source": [
        "### Tuples\n",
        "Tuples are similar to lists; however, they can't be modified after creation i.e. they are **immutable**. Instead of square brackets, we use parenthesis to create tuples:"
      ]
    },
    {
      "cell_type": "code",
      "execution_count": null,
      "metadata": {
        "id": "7VLax7Ogx1BW",
        "outputId": "b9278aae-74e1-4451-ddc8-f7141070a12a"
      },
      "outputs": [
        {
          "data": {
            "text/plain": [
              "tuple"
            ]
          },
          "execution_count": 29,
          "metadata": {},
          "output_type": "execute_result"
        }
      ],
      "source": [
        "my_tuple = ('a', 5)\n",
        "type(my_tuple)"
      ]
    },
    {
      "cell_type": "code",
      "execution_count": null,
      "metadata": {
        "id": "--S_MbmMx1BW",
        "outputId": "57b0dfd4-668c-448b-df16-8dcc8e378a7b"
      },
      "outputs": [
        {
          "data": {
            "text/plain": [
              "'a'"
            ]
          },
          "execution_count": 30,
          "metadata": {},
          "output_type": "execute_result"
        }
      ],
      "source": [
        "my_tuple[0]"
      ]
    },
    {
      "cell_type": "markdown",
      "metadata": {
        "id": "LWu7ITbhx1BW"
      },
      "source": [
        "Immutable objects can't be modified:"
      ]
    },
    {
      "cell_type": "code",
      "execution_count": null,
      "metadata": {
        "id": "MjgZIer0x1BW",
        "outputId": "191af39e-b3bb-4852-d244-cefed679d7f6"
      },
      "outputs": [
        {
          "ename": "TypeError",
          "evalue": "'tuple' object does not support item assignment",
          "output_type": "error",
          "traceback": [
            "\u001b[0;31m---------------------------------------------------------------------------\u001b[0m",
            "\u001b[0;31mTypeError\u001b[0m                                 Traceback (most recent call last)",
            "\u001b[0;32m<ipython-input-31-f792d047bcee>\u001b[0m in \u001b[0;36m<module>\u001b[0;34m\u001b[0m\n\u001b[0;32m----> 1\u001b[0;31m \u001b[0mmy_tuple\u001b[0m\u001b[0;34m[\u001b[0m\u001b[0;36m0\u001b[0m\u001b[0;34m]\u001b[0m \u001b[0;34m=\u001b[0m \u001b[0;34m'b'\u001b[0m\u001b[0;34m\u001b[0m\u001b[0;34m\u001b[0m\u001b[0m\n\u001b[0m",
            "\u001b[0;31mTypeError\u001b[0m: 'tuple' object does not support item assignment"
          ]
        }
      ],
      "source": [
        "my_tuple[0] = 'b'"
      ]
    },
    {
      "cell_type": "markdown",
      "metadata": {
        "id": "DzcoWeVax1BW"
      },
      "source": [
        "### Dictionaries\n",
        "We can store mappings of key-value pairs using dictionaries:"
      ]
    },
    {
      "cell_type": "code",
      "execution_count": null,
      "metadata": {
        "id": "AtAw-tbNx1BW",
        "outputId": "4c2af5c4-011b-47f4-a873-aafd46928806"
      },
      "outputs": [
        {
          "data": {
            "text/plain": [
              "dict"
            ]
          },
          "execution_count": 32,
          "metadata": {},
          "output_type": "execute_result"
        }
      ],
      "source": [
        "shopping_list = {\n",
        "    'veggies': ['spinach', 'kale', 'beets'],\n",
        "    'fruits': 'bananas',\n",
        "    'meat': 0\n",
        "}\n",
        "type(shopping_list)"
      ]
    },
    {
      "cell_type": "markdown",
      "metadata": {
        "id": "aCxvhhn2x1BX"
      },
      "source": [
        "To access the values associated with a specific key, we use the square bracket notation again:"
      ]
    },
    {
      "cell_type": "code",
      "execution_count": null,
      "metadata": {
        "id": "_JKx7b7qx1BX",
        "outputId": "a846fa0b-f6fd-41cf-9b4a-68d0800d872f"
      },
      "outputs": [
        {
          "data": {
            "text/plain": [
              "['spinach', 'kale', 'beets']"
            ]
          },
          "execution_count": 33,
          "metadata": {},
          "output_type": "execute_result"
        }
      ],
      "source": [
        "shopping_list['veggies']"
      ]
    },
    {
      "cell_type": "markdown",
      "metadata": {
        "id": "Hh6MdQhXx1BX"
      },
      "source": [
        "We can extract all of the keys with `keys()`:"
      ]
    },
    {
      "cell_type": "code",
      "execution_count": null,
      "metadata": {
        "id": "3sntjiDAx1BX",
        "outputId": "672e2da6-fcd2-44c6-c379-6f0c226c3c5c"
      },
      "outputs": [
        {
          "data": {
            "text/plain": [
              "dict_keys(['veggies', 'fruits', 'meat'])"
            ]
          },
          "execution_count": 34,
          "metadata": {},
          "output_type": "execute_result"
        }
      ],
      "source": [
        "shopping_list.keys()"
      ]
    },
    {
      "cell_type": "markdown",
      "metadata": {
        "id": "uK-HtC_6x1BX"
      },
      "source": [
        "We can extract all of the values with `values()`:"
      ]
    },
    {
      "cell_type": "code",
      "execution_count": null,
      "metadata": {
        "id": "UzBYNl7-x1BX",
        "outputId": "6d47b3e8-dbbd-4431-b0b9-9b628836e538"
      },
      "outputs": [
        {
          "data": {
            "text/plain": [
              "dict_values([['spinach', 'kale', 'beets'], 'bananas', 0])"
            ]
          },
          "execution_count": 35,
          "metadata": {},
          "output_type": "execute_result"
        }
      ],
      "source": [
        "shopping_list.values()"
      ]
    },
    {
      "cell_type": "markdown",
      "metadata": {
        "id": "XQtctkYQx1BX"
      },
      "source": [
        "Finally, we can call `items()` to get back pairs of (key, value) pairs:"
      ]
    },
    {
      "cell_type": "code",
      "execution_count": null,
      "metadata": {
        "id": "m0WNI-Edx1BX",
        "outputId": "6731e636-f24d-401c-92f6-d432955ba969"
      },
      "outputs": [
        {
          "data": {
            "text/plain": [
              "dict_items([('veggies', ['spinach', 'kale', 'beets']), ('fruits', 'bananas'), ('meat', 0)])"
            ]
          },
          "execution_count": 36,
          "metadata": {},
          "output_type": "execute_result"
        }
      ],
      "source": [
        "shopping_list.items()"
      ]
    },
    {
      "cell_type": "markdown",
      "metadata": {
        "id": "CsQhYFBYx1BX"
      },
      "source": [
        "### Sets\n",
        "A set is a collection of unique items; a common use is to remove duplicates from a list. These are written with curly braces also, but notice there is no key-value mapping:"
      ]
    },
    {
      "cell_type": "code",
      "execution_count": null,
      "metadata": {
        "id": "sNIsdAMEx1BY",
        "outputId": "251be218-8ec4-4fac-92ff-9dae87970306"
      },
      "outputs": [
        {
          "data": {
            "text/plain": [
              "set"
            ]
          },
          "execution_count": 37,
          "metadata": {},
          "output_type": "execute_result"
        }
      ],
      "source": [
        "my_set = {1, 1, 2, 'a'}\n",
        "type(my_set)"
      ]
    },
    {
      "cell_type": "markdown",
      "metadata": {
        "id": "Ov4AmQaQx1BY"
      },
      "source": [
        "How many items are in this set?"
      ]
    },
    {
      "cell_type": "code",
      "execution_count": null,
      "metadata": {
        "id": "0iTOgNM7x1BY",
        "outputId": "393f85b4-6f73-4cc0-d1b3-9ea6ca0526dc"
      },
      "outputs": [
        {
          "data": {
            "text/plain": [
              "3"
            ]
          },
          "execution_count": 38,
          "metadata": {},
          "output_type": "execute_result"
        }
      ],
      "source": [
        "len(my_set)"
      ]
    },
    {
      "cell_type": "markdown",
      "metadata": {
        "id": "0Nm18EoHx1BY"
      },
      "source": [
        "We put in 4 items but the set only has 3 because duplicates are removed:"
      ]
    },
    {
      "cell_type": "code",
      "execution_count": null,
      "metadata": {
        "id": "kbslq4CJx1BY",
        "outputId": "3154daa5-4ccf-464d-af3b-f53a78a397dd"
      },
      "outputs": [
        {
          "data": {
            "text/plain": [
              "{1, 2, 'a'}"
            ]
          },
          "execution_count": 39,
          "metadata": {},
          "output_type": "execute_result"
        }
      ],
      "source": [
        "my_set"
      ]
    },
    {
      "cell_type": "markdown",
      "metadata": {
        "id": "409jtvKAx1BY"
      },
      "source": [
        "We can check if a value is in the set:"
      ]
    },
    {
      "cell_type": "code",
      "execution_count": null,
      "metadata": {
        "id": "ekYOBIYox1BY",
        "outputId": "3e700cd9-bfa5-4f9a-8fce-6da24fc6adcf"
      },
      "outputs": [
        {
          "data": {
            "text/plain": [
              "True"
            ]
          },
          "execution_count": 40,
          "metadata": {},
          "output_type": "execute_result"
        }
      ],
      "source": [
        "2 in my_set"
      ]
    },
    {
      "cell_type": "markdown",
      "metadata": {
        "id": "w6XCqMm3x1BY"
      },
      "source": [
        "## Functions\n",
        "We can define functions to package up our code for reuse. We have already seen some functions: `len()`, `type()`, and `print()`. They are all functions that take **arguments**. Note that functions don't need to accept arguments, in which case they are called without passing in anything (e.g. `print()` versus `print(my_string)`).\n",
        "\n",
        "*Aside: we can also create lists, sets, dictionaries, and tuples with functions: `list()`, `set()`, `dict()`, and `tuple()`*\n",
        "\n",
        "### Defining functions\n",
        "\n",
        "We use the `def` keyword to define functions. Let's create a function called `add()` with 2 parameters, `x` and `y`, which will be the names the code in the function will use to refer to the arguments we pass in when calling it:"
      ]
    },
    {
      "cell_type": "code",
      "execution_count": null,
      "metadata": {
        "id": "HKH5zU6ex1BY"
      },
      "outputs": [],
      "source": [
        "def add(x, y):\n",
        "    \"\"\"This is a docstring. It is used to explain how the code works and is optional (but encouraged).\"\"\"\n",
        "    # this is a comment; it allows us to annotate the code\n",
        "    print('Performing addition')\n",
        "    return x + y"
      ]
    },
    {
      "cell_type": "markdown",
      "metadata": {
        "id": "oH7lC7FIx1BY"
      },
      "source": [
        "Once we run the code above, our function is ready to use:"
      ]
    },
    {
      "cell_type": "code",
      "execution_count": null,
      "metadata": {
        "id": "ZEc2zwsQx1BZ",
        "outputId": "b057985d-8163-40b7-8388-4552748c21e7"
      },
      "outputs": [
        {
          "data": {
            "text/plain": [
              "function"
            ]
          },
          "execution_count": 42,
          "metadata": {},
          "output_type": "execute_result"
        }
      ],
      "source": [
        "type(add)"
      ]
    },
    {
      "cell_type": "markdown",
      "metadata": {
        "id": "Bnozoe0sx1BZ"
      },
      "source": [
        "Let's add some numbers:"
      ]
    },
    {
      "cell_type": "code",
      "execution_count": null,
      "metadata": {
        "id": "DEJT61f4x1BZ",
        "outputId": "879cca15-3d86-4c36-e679-806461426223"
      },
      "outputs": [
        {
          "name": "stdout",
          "output_type": "stream",
          "text": [
            "Performing addition\n"
          ]
        },
        {
          "data": {
            "text/plain": [
              "3"
            ]
          },
          "execution_count": 43,
          "metadata": {},
          "output_type": "execute_result"
        }
      ],
      "source": [
        "add(1, 2)"
      ]
    },
    {
      "cell_type": "markdown",
      "metadata": {
        "id": "UgVWRoM2x1BZ"
      },
      "source": [
        "### Return values\n",
        "We can store the result in a variable for later:"
      ]
    },
    {
      "cell_type": "code",
      "execution_count": null,
      "metadata": {
        "id": "t8VZX5-5x1BZ",
        "outputId": "aea211b4-eed1-48af-84dc-2a5f67f2330e"
      },
      "outputs": [
        {
          "name": "stdout",
          "output_type": "stream",
          "text": [
            "Performing addition\n"
          ]
        }
      ],
      "source": [
        "result = add(1, 2)"
      ]
    },
    {
      "cell_type": "markdown",
      "metadata": {
        "id": "wpDA89Ocx1BZ"
      },
      "source": [
        "Notice the print statement wasn't captured in `result`. This variable will only have what the function **returns**. This is what the `return` line in the function definition did:"
      ]
    },
    {
      "cell_type": "code",
      "execution_count": null,
      "metadata": {
        "id": "OIMm3Mgux1BZ",
        "outputId": "53a3096a-013f-4c08-bbd2-bf68bac4cf74"
      },
      "outputs": [
        {
          "data": {
            "text/plain": [
              "3"
            ]
          },
          "execution_count": 45,
          "metadata": {},
          "output_type": "execute_result"
        }
      ],
      "source": [
        "result"
      ]
    },
    {
      "cell_type": "markdown",
      "metadata": {
        "id": "6V820XYYx1BZ"
      },
      "source": [
        "Note that functions don't have to return anything. Consider `print()`:"
      ]
    },
    {
      "cell_type": "code",
      "execution_count": null,
      "metadata": {
        "id": "-JTsKMZAx1BZ",
        "outputId": "db9b130b-0002-4e80-bfec-0152b3784fe7"
      },
      "outputs": [
        {
          "name": "stdout",
          "output_type": "stream",
          "text": [
            "hello world\n"
          ]
        }
      ],
      "source": [
        "print_result = print('hello world')"
      ]
    },
    {
      "cell_type": "markdown",
      "metadata": {
        "id": "FF2OcOR2x1BZ"
      },
      "source": [
        "If we take a look at what we got back, we see it is a `NoneType` object:"
      ]
    },
    {
      "cell_type": "code",
      "execution_count": null,
      "metadata": {
        "id": "rihj07fmx1Ba",
        "outputId": "abc58405-1d53-4d0e-ee6b-f42aa0311aa2"
      },
      "outputs": [
        {
          "data": {
            "text/plain": [
              "NoneType"
            ]
          },
          "execution_count": 47,
          "metadata": {},
          "output_type": "execute_result"
        }
      ],
      "source": [
        "type(print_result)"
      ]
    },
    {
      "cell_type": "markdown",
      "metadata": {
        "id": "JQlK3xD0x1Ba"
      },
      "source": [
        "In Python, the value `None` represents null values. We can check if our variable *is* `None`:"
      ]
    },
    {
      "cell_type": "code",
      "execution_count": null,
      "metadata": {
        "id": "dszwYHIcx1Ba",
        "outputId": "c6773f1a-6465-4d78-e3f0-a0c9447a4e81"
      },
      "outputs": [
        {
          "data": {
            "text/plain": [
              "True"
            ]
          },
          "execution_count": 48,
          "metadata": {},
          "output_type": "execute_result"
        }
      ],
      "source": [
        "print_result is None"
      ]
    },
    {
      "cell_type": "markdown",
      "metadata": {
        "id": "arr1dVMbx1Ba"
      },
      "source": [
        "*Warning: make sure to use comparison operators (e.g. >, >=, <, <=, ==, !=) to compare to values other than `None`.*\n",
        "\n",
        "### Function arguments\n",
        "\n",
        "*Note that function arguments can be anything, even other functions. We will see several examples of this in the text.*\n",
        "\n",
        "The function we defined requires arguments. If we don't provide them all, it will cause an error:"
      ]
    },
    {
      "cell_type": "code",
      "execution_count": null,
      "metadata": {
        "id": "zuHG8rEqx1Ba",
        "outputId": "e893b923-bc19-4926-c244-7e51ba1da91c"
      },
      "outputs": [
        {
          "ename": "TypeError",
          "evalue": "add() missing 1 required positional argument: 'y'",
          "output_type": "error",
          "traceback": [
            "\u001b[0;31m---------------------------------------------------------------------------\u001b[0m",
            "\u001b[0;31mTypeError\u001b[0m                                 Traceback (most recent call last)",
            "\u001b[0;32m<ipython-input-49-2558a051bacf>\u001b[0m in \u001b[0;36m<module>\u001b[0;34m\u001b[0m\n\u001b[0;32m----> 1\u001b[0;31m \u001b[0madd\u001b[0m\u001b[0;34m(\u001b[0m\u001b[0;36m1\u001b[0m\u001b[0;34m)\u001b[0m\u001b[0;34m\u001b[0m\u001b[0;34m\u001b[0m\u001b[0m\n\u001b[0m",
            "\u001b[0;31mTypeError\u001b[0m: add() missing 1 required positional argument: 'y'"
          ]
        }
      ],
      "source": [
        "add(1)"
      ]
    },
    {
      "cell_type": "markdown",
      "metadata": {
        "id": "touX5rBzx1Bb"
      },
      "source": [
        "We can use `help()` to check what arguments the function needs (notice the docstring ends up here):"
      ]
    },
    {
      "cell_type": "code",
      "execution_count": null,
      "metadata": {
        "id": "WHcmytt0x1Bb",
        "outputId": "56991064-123d-49f1-ef21-4623dcbd0e37"
      },
      "outputs": [
        {
          "name": "stdout",
          "output_type": "stream",
          "text": [
            "Help on function add in module __main__:\n",
            "\n",
            "add(x, y)\n",
            "    This is a docstring. It is used to explain how the code works and is optional (but encouraged).\n",
            "\n"
          ]
        }
      ],
      "source": [
        "help(add)"
      ]
    },
    {
      "cell_type": "markdown",
      "metadata": {
        "id": "qJwaMAtLx1Bb"
      },
      "source": [
        "We will also get errors if we pass in data types that `add()` can't work with:"
      ]
    },
    {
      "cell_type": "code",
      "execution_count": null,
      "metadata": {
        "id": "lqCjuAzBx1Bb",
        "outputId": "df64e2fc-6297-45ff-e09a-e235ceebc462"
      },
      "outputs": [
        {
          "name": "stdout",
          "output_type": "stream",
          "text": [
            "Performing addition\n"
          ]
        },
        {
          "ename": "TypeError",
          "evalue": "unsupported operand type(s) for +: 'set' and 'set'",
          "output_type": "error",
          "traceback": [
            "\u001b[0;31m---------------------------------------------------------------------------\u001b[0m",
            "\u001b[0;31mTypeError\u001b[0m                                 Traceback (most recent call last)",
            "\u001b[0;32m<ipython-input-51-9c946942295c>\u001b[0m in \u001b[0;36m<module>\u001b[0;34m\u001b[0m\n\u001b[0;32m----> 1\u001b[0;31m \u001b[0madd\u001b[0m\u001b[0;34m(\u001b[0m\u001b[0mset\u001b[0m\u001b[0;34m(\u001b[0m\u001b[0;34m)\u001b[0m\u001b[0;34m,\u001b[0m \u001b[0mset\u001b[0m\u001b[0;34m(\u001b[0m\u001b[0;34m)\u001b[0m\u001b[0;34m)\u001b[0m\u001b[0;34m\u001b[0m\u001b[0;34m\u001b[0m\u001b[0m\n\u001b[0m",
            "\u001b[0;32m<ipython-input-41-e34d07952248>\u001b[0m in \u001b[0;36madd\u001b[0;34m(x, y)\u001b[0m\n\u001b[1;32m      3\u001b[0m     \u001b[0;31m# this is a comment; it allows us to annotate the code\u001b[0m\u001b[0;34m\u001b[0m\u001b[0;34m\u001b[0m\u001b[0;34m\u001b[0m\u001b[0m\n\u001b[1;32m      4\u001b[0m     \u001b[0mprint\u001b[0m\u001b[0;34m(\u001b[0m\u001b[0;34m'Performing addition'\u001b[0m\u001b[0;34m)\u001b[0m\u001b[0;34m\u001b[0m\u001b[0;34m\u001b[0m\u001b[0m\n\u001b[0;32m----> 5\u001b[0;31m     \u001b[0;32mreturn\u001b[0m \u001b[0mx\u001b[0m \u001b[0;34m+\u001b[0m \u001b[0my\u001b[0m\u001b[0;34m\u001b[0m\u001b[0;34m\u001b[0m\u001b[0m\n\u001b[0m",
            "\u001b[0;31mTypeError\u001b[0m: unsupported operand type(s) for +: 'set' and 'set'"
          ]
        }
      ],
      "source": [
        "add(set(), set())"
      ]
    },
    {
      "cell_type": "markdown",
      "metadata": {
        "id": "OdvsKBYTx1Bb"
      },
      "source": [
        "We will discuss error handling in the text.\n",
        "\n",
        "## Control Flow Statements\n",
        "Sometimes we want to vary the path the code takes based on some criteria. For this we have `if`, `elif`, and `else`. We can use `if` on its own:"
      ]
    },
    {
      "cell_type": "code",
      "execution_count": null,
      "metadata": {
        "id": "Cs9_rUUtx1Bb"
      },
      "outputs": [],
      "source": [
        "def make_positive(x):\n",
        "    \"\"\"Returns a positive x\"\"\"\n",
        "    if x < 0:\n",
        "        x *= -1\n",
        "    return x"
      ]
    },
    {
      "cell_type": "markdown",
      "metadata": {
        "id": "E6VypAeNx1Bb"
      },
      "source": [
        "Calling this function with negative input causes the code under the `if` statement to run:"
      ]
    },
    {
      "cell_type": "code",
      "execution_count": null,
      "metadata": {
        "id": "vwflD0pKx1Bb",
        "outputId": "bec899ae-4caf-441b-e9ea-8f3b198608d1"
      },
      "outputs": [
        {
          "data": {
            "text/plain": [
              "1"
            ]
          },
          "execution_count": 53,
          "metadata": {},
          "output_type": "execute_result"
        }
      ],
      "source": [
        "make_positive(-1)"
      ]
    },
    {
      "cell_type": "markdown",
      "metadata": {
        "id": "4rP1JOJbx1Bc"
      },
      "source": [
        "Calling this function with positive input skips the code under the `if` statement, keeping the number positive:"
      ]
    },
    {
      "cell_type": "code",
      "execution_count": null,
      "metadata": {
        "id": "oCg_S80sx1Bc",
        "outputId": "6a3fb8fd-9a51-40f6-8b76-63c6f09a5350"
      },
      "outputs": [
        {
          "data": {
            "text/plain": [
              "2"
            ]
          },
          "execution_count": 54,
          "metadata": {},
          "output_type": "execute_result"
        }
      ],
      "source": [
        "make_positive(2)"
      ]
    },
    {
      "cell_type": "markdown",
      "metadata": {
        "id": "BkdsUP7Cx1Bc"
      },
      "source": [
        "Sometimes we need an `else` statement as well:"
      ]
    },
    {
      "cell_type": "code",
      "execution_count": null,
      "metadata": {
        "id": "usp4-kRkx1Bc"
      },
      "outputs": [],
      "source": [
        "def add_or_subtract(operation, x, y):\n",
        "    if operation == 'add':\n",
        "        return x + y\n",
        "    else:\n",
        "        return x - y"
      ]
    },
    {
      "cell_type": "markdown",
      "metadata": {
        "id": "x5a7SCkax1Bc"
      },
      "source": [
        "This triggers the code under the `if` statement:"
      ]
    },
    {
      "cell_type": "code",
      "execution_count": null,
      "metadata": {
        "id": "54oX-O_Fx1Bc",
        "outputId": "9861fc66-1b91-40a6-de8a-8e2b4dbcd72c"
      },
      "outputs": [
        {
          "data": {
            "text/plain": [
              "3"
            ]
          },
          "execution_count": 56,
          "metadata": {},
          "output_type": "execute_result"
        }
      ],
      "source": [
        "add_or_subtract('add', 1, 2)"
      ]
    },
    {
      "cell_type": "markdown",
      "metadata": {
        "id": "IYb2KPy1x1Bc"
      },
      "source": [
        "Since the Boolean check in the `if` statement was `False`, this triggers the code under the `else` statement:"
      ]
    },
    {
      "cell_type": "code",
      "execution_count": null,
      "metadata": {
        "id": "M3aLhjRbx1Bc",
        "outputId": "639accc7-4f81-4bf2-c38b-59a991dfd1d6"
      },
      "outputs": [
        {
          "data": {
            "text/plain": [
              "-1"
            ]
          },
          "execution_count": 57,
          "metadata": {},
          "output_type": "execute_result"
        }
      ],
      "source": [
        "add_or_subtract('subtract', 1, 2)"
      ]
    },
    {
      "cell_type": "markdown",
      "metadata": {
        "id": "mjHi9EPyx1Bc"
      },
      "source": [
        "For more complicated logic, we can also use `elif`. We can have any number of `elif` statements. Optionally, we can include `else`."
      ]
    },
    {
      "cell_type": "code",
      "execution_count": null,
      "metadata": {
        "id": "mYi7sbqOx1Bc"
      },
      "outputs": [],
      "source": [
        "def calculate(operation, x, y):\n",
        "    if operation == 'add':\n",
        "        return x + y\n",
        "    elif operation == 'subtract':\n",
        "        return x - y\n",
        "    elif operation == 'multiply':\n",
        "        return x * y\n",
        "    elif operation == 'division':\n",
        "        return x / y\n",
        "    else:\n",
        "        print(\"This case hasn't been handled\")"
      ]
    },
    {
      "cell_type": "markdown",
      "metadata": {
        "id": "tqgYjE6Ix1Bc"
      },
      "source": [
        "The code keeps checking the conditions in the `if` statements from top to bottom until it finds `multiply`:"
      ]
    },
    {
      "cell_type": "code",
      "execution_count": null,
      "metadata": {
        "id": "cShD4nSPx1Bc",
        "outputId": "21ec9dda-d791-4c12-d25c-a1643652bb37"
      },
      "outputs": [
        {
          "data": {
            "text/plain": [
              "12"
            ]
          },
          "execution_count": 59,
          "metadata": {},
          "output_type": "execute_result"
        }
      ],
      "source": [
        "calculate('multiply', 3, 4)"
      ]
    },
    {
      "cell_type": "markdown",
      "metadata": {
        "id": "kL82FzFex1Bd"
      },
      "source": [
        "The code keeps checking the conditions in the `if` statements from top to bottom until it hits the `else` statement:"
      ]
    },
    {
      "cell_type": "code",
      "execution_count": null,
      "metadata": {
        "id": "Z7QHkE1mx1Bd",
        "outputId": "c0df5c2d-a263-4e55-add1-97f75e3d06be"
      },
      "outputs": [
        {
          "name": "stdout",
          "output_type": "stream",
          "text": [
            "This case hasn't been handled\n"
          ]
        }
      ],
      "source": [
        "calculate('power', 3, 4)"
      ]
    },
    {
      "cell_type": "markdown",
      "metadata": {
        "id": "Oj6k7Lfix1Bd"
      },
      "source": [
        "## Loops\n",
        "### `while` loops\n",
        "With `while` loops, we can keep running code until some stopping condition is met:"
      ]
    },
    {
      "cell_type": "code",
      "execution_count": null,
      "metadata": {
        "id": "_KHru9Gkx1Bd",
        "outputId": "9dc2ff2d-4568-4bac-c23a-355cbc4c05c7"
      },
      "outputs": [
        {
          "name": "stdout",
          "output_type": "stream",
          "text": [
            "Still going... 2\n",
            "Still going... 4\n",
            "Still going... 8\n"
          ]
        }
      ],
      "source": [
        "done = False\n",
        "value = 2\n",
        "while not done:\n",
        "    print('Still going...', value)\n",
        "    value *= 2\n",
        "    if value > 10:\n",
        "        done = True"
      ]
    },
    {
      "cell_type": "markdown",
      "metadata": {
        "id": "uESGtKkEx1Bd"
      },
      "source": [
        "Note this can also be written as, by moving the condition to the `while` statement:"
      ]
    },
    {
      "cell_type": "code",
      "execution_count": null,
      "metadata": {
        "id": "LNXzaVo-x1Bd",
        "outputId": "08f25292-c046-4b3a-86bf-d5e438cd890f"
      },
      "outputs": [
        {
          "name": "stdout",
          "output_type": "stream",
          "text": [
            "Still going... 2\n",
            "Still going... 4\n",
            "Still going... 8\n"
          ]
        }
      ],
      "source": [
        "value = 2\n",
        "while value < 10:\n",
        "    print('Still going...', value)\n",
        "    value *= 2"
      ]
    },
    {
      "cell_type": "markdown",
      "metadata": {
        "id": "HYVDQUwVx1Bd"
      },
      "source": [
        "### `for` loops\n",
        "With `for` loops, we can run our code *for each* element in a collection:"
      ]
    },
    {
      "cell_type": "code",
      "execution_count": null,
      "metadata": {
        "id": "VEusDvNSx1Bd",
        "outputId": "8f935fbe-5791-4a59-e88c-b64eac93d0d4"
      },
      "outputs": [
        {
          "name": "stdout",
          "output_type": "stream",
          "text": [
            "0\n",
            "1\n",
            "2\n",
            "3\n",
            "4\n"
          ]
        }
      ],
      "source": [
        "for i in range(5):\n",
        "    print(i)"
      ]
    },
    {
      "cell_type": "markdown",
      "metadata": {
        "id": "W4NvcNAcx1Bd"
      },
      "source": [
        "We can use `for` loops with lists, tuples, sets, and dictionaries as well:"
      ]
    },
    {
      "cell_type": "code",
      "execution_count": null,
      "metadata": {
        "id": "qPZptS6cx1Bd",
        "outputId": "02fb5750-1a5d-4376-dc11-21e4513338db"
      },
      "outputs": [
        {
          "name": "stdout",
          "output_type": "stream",
          "text": [
            "hello\n",
            "3.8\n",
            "True\n",
            "Python\n"
          ]
        }
      ],
      "source": [
        "for element in my_list:\n",
        "    print(element)"
      ]
    },
    {
      "cell_type": "code",
      "execution_count": null,
      "metadata": {
        "id": "9rQFcRMSx1Bd",
        "outputId": "fbf9cf9b-b712-4e50-aac5-00386f3389bb"
      },
      "outputs": [
        {
          "name": "stdout",
          "output_type": "stream",
          "text": [
            "For veggies we need to buy ['spinach', 'kale', 'beets']\n",
            "For fruits we need to buy bananas\n",
            "For meat we need to buy 0\n"
          ]
        }
      ],
      "source": [
        "for key, value in shopping_list.items():\n",
        "    print('For', key, 'we need to buy', value)"
      ]
    },
    {
      "cell_type": "markdown",
      "metadata": {
        "id": "giyWz5v-x1Be"
      },
      "source": [
        "With `for` loops, we don't have to worry about checking if we have reached the stopping condition. Conversely, `while` loops can cause infinite loops if we don't remember to update variables.\n",
        "\n",
        "## Imports\n",
        "We have been working with the portion of Python that is available without importing additional functionality. The Python standard library that comes with the install of Python is broken up into several **modules**, but we often only need a few. We can import whatever we need: a module in the standard library, a 3rd-party library, or code that we wrote. This is done with an `import` statement:"
      ]
    },
    {
      "cell_type": "code",
      "execution_count": null,
      "metadata": {
        "id": "R47C6hxLx1Be",
        "outputId": "49575bd9-1060-4cb4-fda4-dbbda0631a0d"
      },
      "outputs": [
        {
          "name": "stdout",
          "output_type": "stream",
          "text": [
            "3.141592653589793\n"
          ]
        }
      ],
      "source": [
        "import math\n",
        "\n",
        "print(math.pi)"
      ]
    },
    {
      "cell_type": "markdown",
      "metadata": {
        "id": "fsRg7ifVx1Be"
      },
      "source": [
        "If we only need a small piece from that module, we can do the following instead:"
      ]
    },
    {
      "cell_type": "code",
      "execution_count": null,
      "metadata": {
        "id": "YcZdk5rxx1Be",
        "outputId": "eaf5e190-0a4f-4ff2-d979-2328a6d6e536"
      },
      "outputs": [
        {
          "name": "stdout",
          "output_type": "stream",
          "text": [
            "3.141592653589793\n"
          ]
        }
      ],
      "source": [
        "from math import pi\n",
        "\n",
        "print(pi)"
      ]
    },
    {
      "cell_type": "markdown",
      "metadata": {
        "id": "xZdg6uUqx1Be"
      },
      "source": [
        "*Warning: anything you import is added to the namespace, so if you create a new variable/function/etc. with the same name it will overwrite the previous value. For this reason, we have to be careful with variable names e.g. if you name something `sum`, you won't be able to add using the `sum()` built-in function anymore. Using notebooks or an IDE will help you avoid these issues with syntax highlighting.*\n",
        "\n",
        "## Installing 3rd-party Packages\n",
        "**NOTE: We will cover the environment setup in the text; this is for reference.**\n",
        "\n",
        "We can use [`pip`](https://pip.pypa.io/en/stable/reference/) or [`conda`](https://docs.conda.io/projects/conda/en/latest/commands.html) to install packages, depending on how we created our virtual environment. The text walks through the commands to create virtual environments with `venv` and `conda`. The environment **MUST** be activated before installing the packages for this text; otherwise, it's possible they interfere with other projects on your machine or vice versa.\n",
        "\n",
        "To install a package, we can use `pip3 install <package_name>`. Optionally, we can provide a specific version to install `pip3 install pandas==0.23.4`. Without that specification, we will get the most stable version. When we have many packages to install (as we do for this book), we will typically use a `requirements.txt` file: `pip3 install -r requirements.txt`.\n",
        "\n",
        "*Note: running `pip3 freeze > requirements.txt` will send the list of packages installed in the activate environment and their respective versions to the `requirements.txt` file.*\n",
        "\n",
        "\n",
        "## Classes\n",
        "*NOTE: We will discuss this further in the text in chapter 7. For now, it is important to be aware of the syntax in this section.*\n",
        "\n",
        "So far we have used Python as a functional programming language, but we also have the option to use it for **object-oriented programming**. You can think of a `class` as a way to group similar functionality together. Let's create a calculator class which can handle mathematical operations for us. For this, we use the `class` keyword and define **methods** for taking actions on the calculator. These methods are functions that take `self` as the first argument. When calling them, we don't pass in anything for that argument (example after this):"
      ]
    },
    {
      "cell_type": "code",
      "execution_count": null,
      "metadata": {
        "id": "ZKPKxhnbx1Be"
      },
      "outputs": [],
      "source": [
        "class Calculator:\n",
        "    \"\"\"This is the class docstring.\"\"\"\n",
        "\n",
        "    def __init__(self):\n",
        "        \"\"\"This is a method and it is called when we create an object of type `Calculator`.\"\"\"\n",
        "        self.on = False\n",
        "\n",
        "    def turn_on(self):\n",
        "        \"\"\"This method turns on the calculator.\"\"\"\n",
        "        self.on = True\n",
        "\n",
        "    def add(self, x, y):\n",
        "        \"\"\"Perform addition if calculator is on\"\"\"\n",
        "        if self.on:\n",
        "            return x + y\n",
        "        else:\n",
        "            print('the calculator is not on')"
      ]
    },
    {
      "cell_type": "markdown",
      "metadata": {
        "id": "kqs-8bHtx1Be"
      },
      "source": [
        "In order to use the calculator, we need to **instantiate** an instance or object of type `Calculator`. Since the `__init__()` method has no parameters other than `self`, we don't need to provide anything:"
      ]
    },
    {
      "cell_type": "code",
      "execution_count": null,
      "metadata": {
        "id": "t-XrvwYfx1Be"
      },
      "outputs": [],
      "source": [
        "my_calculator = Calculator()"
      ]
    },
    {
      "cell_type": "markdown",
      "metadata": {
        "id": "n9rIfFTvx1Bf"
      },
      "source": [
        "Let's try to add some numbers:"
      ]
    },
    {
      "cell_type": "code",
      "execution_count": null,
      "metadata": {
        "id": "ijNmC97Ux1Bf",
        "outputId": "5196c0d3-4ba4-45ab-fd8b-16ef3ee01f88"
      },
      "outputs": [
        {
          "name": "stdout",
          "output_type": "stream",
          "text": [
            "the calculator is not on\n"
          ]
        }
      ],
      "source": [
        "my_calculator.add(1, 2)"
      ]
    },
    {
      "cell_type": "markdown",
      "metadata": {
        "id": "xYupq_ecx1Bf"
      },
      "source": [
        "Oops!! The calculator is not on. Let's turn it on:"
      ]
    },
    {
      "cell_type": "code",
      "execution_count": null,
      "metadata": {
        "id": "E-CkoSqFx1Bf"
      },
      "outputs": [],
      "source": [
        "my_calculator.turn_on()"
      ]
    },
    {
      "cell_type": "markdown",
      "metadata": {
        "id": "rXLKYIB3x1Bf"
      },
      "source": [
        "Let's try again:"
      ]
    },
    {
      "cell_type": "code",
      "execution_count": null,
      "metadata": {
        "id": "4WxVRSubx1Bf",
        "outputId": "2de11c01-c06c-4730-ab81-06c2d2973f96"
      },
      "outputs": [
        {
          "data": {
            "text/plain": [
              "3"
            ]
          },
          "execution_count": 72,
          "metadata": {},
          "output_type": "execute_result"
        }
      ],
      "source": [
        "my_calculator.add(1, 2)"
      ]
    },
    {
      "cell_type": "markdown",
      "metadata": {
        "id": "lPE4epekx1Bf"
      },
      "source": [
        "We can access **attributes** on object with dot notation. In this example, the only attribute is `on`, and it is set in the `__init__()` method:"
      ]
    },
    {
      "cell_type": "code",
      "execution_count": null,
      "metadata": {
        "id": "Lz6exzZjx1Bf",
        "outputId": "b543e221-a9df-4de4-a5d2-eb42e918b6d8"
      },
      "outputs": [
        {
          "data": {
            "text/plain": [
              "True"
            ]
          },
          "execution_count": 73,
          "metadata": {},
          "output_type": "execute_result"
        }
      ],
      "source": [
        "my_calculator.on"
      ]
    },
    {
      "cell_type": "markdown",
      "metadata": {
        "id": "yECbwiG1x1Bf"
      },
      "source": [
        "Note that we can also update attributes:"
      ]
    },
    {
      "cell_type": "code",
      "execution_count": null,
      "metadata": {
        "id": "23ys4rTvx1Bf",
        "outputId": "06e2fc55-1f03-4fab-bb91-5aa6207aa4cc"
      },
      "outputs": [
        {
          "name": "stdout",
          "output_type": "stream",
          "text": [
            "the calculator is not on\n"
          ]
        }
      ],
      "source": [
        "my_calculator.on = False\n",
        "my_calculator.add(1, 2)"
      ]
    },
    {
      "cell_type": "markdown",
      "metadata": {
        "id": "lYqbLqk_x1Bf"
      },
      "source": [
        "Finally, we can use `help()` to get more information on the object:"
      ]
    },
    {
      "cell_type": "code",
      "execution_count": null,
      "metadata": {
        "id": "trEkpqZ0x1Bf",
        "outputId": "64bbd1ac-ba18-4564-95d0-9813ba000371"
      },
      "outputs": [
        {
          "name": "stdout",
          "output_type": "stream",
          "text": [
            "Help on Calculator in module __main__ object:\n",
            "\n",
            "class Calculator(builtins.object)\n",
            " |  This is the class docstring.\n",
            " |  \n",
            " |  Methods defined here:\n",
            " |  \n",
            " |  __init__(self)\n",
            " |      This is a method and it is called when we create an object of type `Calculator`.\n",
            " |  \n",
            " |  add(self, x, y)\n",
            " |      Perform addition if calculator is on\n",
            " |  \n",
            " |  turn_on(self)\n",
            " |      This method turns on the calculator.\n",
            " |  \n",
            " |  ----------------------------------------------------------------------\n",
            " |  Data descriptors defined here:\n",
            " |  \n",
            " |  __dict__\n",
            " |      dictionary for instance variables (if defined)\n",
            " |  \n",
            " |  __weakref__\n",
            " |      list of weak references to the object (if defined)\n",
            "\n"
          ]
        }
      ],
      "source": [
        "help(my_calculator)"
      ]
    },
    {
      "cell_type": "markdown",
      "metadata": {
        "id": "DwuoFE0ax1Bg"
      },
      "source": [
        "... and also for a method:"
      ]
    },
    {
      "cell_type": "code",
      "execution_count": null,
      "metadata": {
        "id": "7nyxikf3x1Bg",
        "outputId": "1e3edbf5-a6d7-404d-a201-d7ffb0e6f9ad"
      },
      "outputs": [
        {
          "name": "stdout",
          "output_type": "stream",
          "text": [
            "Help on method add in module __main__:\n",
            "\n",
            "add(x, y) method of __main__.Calculator instance\n",
            "    Perform addition if calculator is on\n",
            "\n"
          ]
        }
      ],
      "source": [
        "help(my_calculator.add)"
      ]
    },
    {
      "cell_type": "markdown",
      "metadata": {
        "id": "ofoAEPe8x1Bg"
      },
      "source": [
        "## Next Steps\n",
        "This was a crash course in Python. By no means are you expected to be an expert in the language to start working through the text. Take some time to play around with this notebook before trying [this chapter's exercises](./exercises.ipynb).\n",
        "\n",
        "<hr>\n",
        "<div style=\"overflow: hidden; margin-bottom: 10px;\">\n",
        "    <div style=\"float: left;\">\n",
        "         <a href=\"./introduction_to_data_analysis.ipynb\">\n",
        "            <button>&#8592; Introduction to Data Analysis</button>\n",
        "        </a>\n",
        "    </div>\n",
        "    <div style=\"float: right;\">\n",
        "        <a href=\"./check_your_setup.ipynb\">\n",
        "            <button>Check your Setup</button>\n",
        "        </a>\n",
        "        <a href=\"./exercises.ipynb\">\n",
        "            <button>Chapter 1 Exercises &#8594;</button>\n",
        "        </a>\n",
        "    </div>\n",
        "</div>\n",
        "<hr>"
      ]
    }
  ],
  "metadata": {
    "kernelspec": {
      "display_name": "Python 3",
      "language": "python",
      "name": "python3"
    },
    "language_info": {
      "codemirror_mode": {
        "name": "ipython",
        "version": 3
      },
      "file_extension": ".py",
      "mimetype": "text/x-python",
      "name": "python",
      "nbconvert_exporter": "python",
      "pygments_lexer": "ipython3",
      "version": "3.7.3"
    },
    "colab": {
      "provenance": []
    }
  },
  "nbformat": 4,
  "nbformat_minor": 0
}